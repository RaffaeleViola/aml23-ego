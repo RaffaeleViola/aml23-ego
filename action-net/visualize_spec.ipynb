{
 "cells": [
  {
   "attachments": {},
   "cell_type": "markdown",
   "metadata": {},
   "source": [
    "# EMG spectrogram visualization\n",
    "\n",
    "This notebook shows how to compute the spectrogram of the EMG samples capture by the Myo armband.\n",
    "\n",
    "NOTE: you need to install the additional library `librosa` to generate the spectrogram plot."
   ]
  },
  {
   "cell_type": "code",
   "execution_count": 21,
   "metadata": {},
   "outputs": [
    {
     "ename": "ImportError",
     "evalue": "cannot import name '_fail_since_no_ffmpeg' from 'torchaudio._extension.utils' (/Users/federicobuccellato/Desktop/aml23-ego/.venv/lib/python3.11/site-packages/torchaudio/_extension/utils.py)",
     "output_type": "error",
     "traceback": [
      "\u001B[0;31m---------------------------------------------------------------------------\u001B[0m",
      "\u001B[0;31mImportError\u001B[0m                               Traceback (most recent call last)",
      "Cell \u001B[0;32mIn[21], line 2\u001B[0m\n\u001B[1;32m      1\u001B[0m \u001B[38;5;28;01mimport\u001B[39;00m \u001B[38;5;21;01mtorch\u001B[39;00m\n\u001B[0;32m----> 2\u001B[0m \u001B[38;5;28;01mimport\u001B[39;00m \u001B[38;5;21;01mtorchaudio\u001B[39;00m\n\u001B[1;32m      3\u001B[0m \u001B[38;5;28;01mimport\u001B[39;00m \u001B[38;5;21;01mtorchaudio\u001B[39;00m\u001B[38;5;21;01m.\u001B[39;00m\u001B[38;5;21;01mfunctional\u001B[39;00m \u001B[38;5;28;01mas\u001B[39;00m \u001B[38;5;21;01mF\u001B[39;00m\n\u001B[1;32m      4\u001B[0m \u001B[38;5;28;01mimport\u001B[39;00m \u001B[38;5;21;01mtorchaudio\u001B[39;00m\u001B[38;5;21;01m.\u001B[39;00m\u001B[38;5;21;01mtransforms\u001B[39;00m \u001B[38;5;28;01mas\u001B[39;00m \u001B[38;5;21;01mT\u001B[39;00m\n",
      "File \u001B[0;32m~/Desktop/aml23-ego/.venv/lib/python3.11/site-packages/torchaudio/__init__.py:1\u001B[0m\n\u001B[0;32m----> 1\u001B[0m \u001B[38;5;28;01mfrom\u001B[39;00m \u001B[38;5;21;01mtorchaudio\u001B[39;00m \u001B[38;5;28;01mimport\u001B[39;00m (  \u001B[38;5;66;03m# noqa: F401\u001B[39;00m\n\u001B[1;32m      2\u001B[0m     _extension,\n\u001B[1;32m      3\u001B[0m     compliance,\n\u001B[1;32m      4\u001B[0m     datasets,\n\u001B[1;32m      5\u001B[0m     functional,\n\u001B[1;32m      6\u001B[0m     io,\n\u001B[1;32m      7\u001B[0m     kaldi_io,\n\u001B[1;32m      8\u001B[0m     models,\n\u001B[1;32m      9\u001B[0m     pipelines,\n\u001B[1;32m     10\u001B[0m     sox_effects,\n\u001B[1;32m     11\u001B[0m     transforms,\n\u001B[1;32m     12\u001B[0m     utils,\n\u001B[1;32m     13\u001B[0m )\n\u001B[1;32m     15\u001B[0m \u001B[38;5;28;01mfrom\u001B[39;00m \u001B[38;5;21;01mtorchaudio\u001B[39;00m\u001B[38;5;21;01m.\u001B[39;00m\u001B[38;5;21;01mbackend\u001B[39;00m \u001B[38;5;28;01mimport\u001B[39;00m get_audio_backend, list_audio_backends, set_audio_backend\n\u001B[1;32m     17\u001B[0m \u001B[38;5;28;01mtry\u001B[39;00m:\n",
      "File \u001B[0;32m~/Desktop/aml23-ego/.venv/lib/python3.11/site-packages/torchaudio/_extension/__init__.py:7\u001B[0m\n\u001B[1;32m      3\u001B[0m \u001B[38;5;28;01mimport\u001B[39;00m \u001B[38;5;21;01msys\u001B[39;00m\n\u001B[1;32m      5\u001B[0m \u001B[38;5;28;01mfrom\u001B[39;00m \u001B[38;5;21;01mtorchaudio\u001B[39;00m\u001B[38;5;21;01m.\u001B[39;00m\u001B[38;5;21;01m_internal\u001B[39;00m\u001B[38;5;21;01m.\u001B[39;00m\u001B[38;5;21;01mmodule_utils\u001B[39;00m \u001B[38;5;28;01mimport\u001B[39;00m fail_with_message, is_module_available, no_op\n\u001B[0;32m----> 7\u001B[0m \u001B[38;5;28;01mfrom\u001B[39;00m \u001B[38;5;21;01m.\u001B[39;00m\u001B[38;5;21;01mutils\u001B[39;00m \u001B[38;5;28;01mimport\u001B[39;00m _check_cuda_version, _fail_since_no_ffmpeg, _init_dll_path, _init_ffmpeg, _init_sox, _load_lib\n\u001B[1;32m      9\u001B[0m _LG \u001B[38;5;241m=\u001B[39m logging\u001B[38;5;241m.\u001B[39mgetLogger(\u001B[38;5;18m__name__\u001B[39m)\n\u001B[1;32m     12\u001B[0m \u001B[38;5;66;03m# Note:\u001B[39;00m\n\u001B[1;32m     13\u001B[0m \u001B[38;5;66;03m# `_check_cuda_version` is not meant to be used by regular users.\u001B[39;00m\n\u001B[1;32m     14\u001B[0m \u001B[38;5;66;03m# Builder uses it for debugging purpose, so we export it.\u001B[39;00m\n\u001B[1;32m     15\u001B[0m \u001B[38;5;66;03m# https://github.com/pytorch/builder/blob/e2e4542b8eb0bdf491214451a1a4128bd606cce2/test/smoke_test/smoke_test.py#L80\u001B[39;00m\n",
      "\u001B[0;31mImportError\u001B[0m: cannot import name '_fail_since_no_ffmpeg' from 'torchaudio._extension.utils' (/Users/federicobuccellato/Desktop/aml23-ego/.venv/lib/python3.11/site-packages/torchaudio/_extension/utils.py)"
     ]
    }
   ],
   "source": [
    "import torch\n",
    "import torchaudio\n",
    "import torchaudio.functional as F\n",
    "import torchaudio.transforms as T\n",
    "\n",
    "import pandas as pd"
   ]
  },
  {
   "cell_type": "code",
   "execution_count": 6,
   "metadata": {},
   "outputs": [],
   "source": [
    "import librosa\n",
    "import matplotlib.pyplot as plt\n",
    "\n",
    "def plot_spectrogram(specgram, title=None, ylabel=\"freq_bin\"):\n",
    "    fig, axs = plt.subplots(len(specgram), 1, figsize=(16, 8))\n",
    "\n",
    "    axs[0].set_title(title or \"Spectrogram (db)\")\n",
    "\n",
    "    for i, spec in enumerate(specgram):\n",
    "        im = axs[i].imshow(librosa.power_to_db(specgram[i]), origin=\"lower\", aspect=\"auto\")\n",
    "        axs[i].get_xaxis().set_visible(False)\n",
    "        axs[i].get_yaxis().set_visible(False)\n",
    "\n",
    "    axs[i].set_xlabel(\"Frame number\")\n",
    "    axs[i].get_xaxis().set_visible(True)\n",
    "    plt.show(block=False)"
   ]
  },
  {
   "cell_type": "code",
   "execution_count": null,
   "metadata": {},
   "outputs": [],
   "source": [
    "# Sampling frequency is 160 Hz\n",
    "# With 32 samples the frequency resolution after FFT is 160 / 32\n",
    "\n",
    "n_fft = 32\n",
    "win_length = None\n",
    "hop_length = 4\n",
    "\n",
    "spectrogram = T.Spectrogram(\n",
    "    n_fft=n_fft,\n",
    "    win_length=win_length,\n",
    "    hop_length=hop_length,\n",
    "    center=True,\n",
    "    pad_mode=\"reflect\",\n",
    "    power=2.0,\n",
    "    normalized=True\n",
    ")\n",
    "\n",
    "\n",
    "def compute_spectrogram(signal, title):\n",
    "    freq_signal = [spectrogram(signal[:, i]) for i in range(8)]\n",
    "    plot_spectrogram(freq_signal, title=title)"
   ]
  },
  {
   "cell_type": "code",
   "execution_count": null,
   "metadata": {},
   "outputs": [],
   "source": [
    "# Replace with your path to one of the subjects from Action-Net\n",
    "emg_annotations = pd.read_pickle(\"/Users/federicobuccellato/Desktop/aml23-ego/action-net/S04_1.pkl\")\n",
    "sample_no = 1\n",
    "signal = torch.from_numpy(emg_annotations.iloc[sample_no].myo_left_readings).float()\n",
    "title = emg_annotations.iloc[sample_no].description"
   ]
  },
  {
   "cell_type": "code",
   "execution_count": null,
   "metadata": {},
   "outputs": [],
   "source": [
    "compute_spectrogram(signal, title)"
   ]
  }
 ],
 "metadata": {
  "kernelspec": {
   "display_name": "aml22",
   "language": "python",
   "name": "python3"
  },
  "language_info": {
   "codemirror_mode": {
    "name": "ipython",
    "version": 3
   },
   "file_extension": ".py",
   "mimetype": "text/x-python",
   "name": "python",
   "nbconvert_exporter": "python",
   "pygments_lexer": "ipython3",
   "version": "3.11.8"
  },
  "orig_nbformat": 4,
  "vscode": {
   "interpreter": {
    "hash": "2fc1f0eeae38a5df67b0f713e03196095ce1bfa55aa551576e8e58c2ba904c5a"
   }
  }
 },
 "nbformat": 4,
 "nbformat_minor": 2
}
